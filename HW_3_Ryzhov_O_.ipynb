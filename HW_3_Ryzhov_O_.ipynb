{
  "nbformat": 4,
  "nbformat_minor": 0,
  "metadata": {
    "colab": {
      "provenance": [],
      "include_colab_link": true
    },
    "kernelspec": {
      "name": "python3",
      "display_name": "Python 3"
    },
    "language_info": {
      "name": "python"
    }
  },
  "cells": [
    {
      "cell_type": "markdown",
      "metadata": {
        "id": "view-in-github",
        "colab_type": "text"
      },
      "source": [
        "<a href=\"https://colab.research.google.com/github/OleksandrRyzhov2299/math_colab/blob/main/HW_3_Ryzhov_O_.ipynb\" target=\"_parent\"><img src=\"https://colab.research.google.com/assets/colab-badge.svg\" alt=\"Open In Colab\"/></a>"
      ]
    },
    {
      "cell_type": "markdown",
      "source": [
        "\n",
        "\n",
        "Дано 4 точки: $M_0(0, 0, 0), M_1(1, \\frac{1}{3}, 0), M_2(0, 2, \\frac{1}{4}), M_3(\\frac{1}{2}, \\frac{1}{2}, 1)$.\n",
        "\n",
        "Також дано 3 вектори, які задають паралелепіпед із зазначеними точками:\n",
        "- $\\overline{a}=\\overline{M_0M_1}$\n",
        "- $\\overline{b}=\\overline{M_0M_2}$\n",
        "- $\\overline{c}=\\overline{M_0M_3}$\n",
        "\n",
        "Порахуй координати векторів через задані точки.  \n",
        "Порахуй об'єм, площу повної поверхні паралелепіпеда та кути між ребрами паралелепіпеда, координати решти вершин паралелепіпеда.\n",
        "\n"
      ],
      "metadata": {
        "id": "hcaEinFBN22V"
      }
    },
    {
      "cell_type": "markdown",
      "source": [
        "$\\overline{a} = M_1 - M_0 = \\left (\\begin{array}{cc}\n",
        "1\\\\\n",
        "\\frac{1}{3}\\\\\n",
        "0\n",
        "\\end{array}\\right)\n",
        "\\\\\n",
        "\\overline{b} = M_2 - M_0 = \\left (\\begin{array}{cc}\n",
        "0\\\\\n",
        "2\\\\\n",
        "\\frac{1}{4}\n",
        "\\end{array}\\right)\n",
        "\\\\\n",
        "\\overline{c} = M_3 - M_0 = \\left (\\begin{array}{cc}\n",
        "\\frac{1}{2}\\\\\n",
        "\\frac{1}{2}\\\\\n",
        "1\n",
        "\\end{array}\\right)\n",
        "$"
      ],
      "metadata": {
        "id": "Z-nUpSqnQFUb"
      }
    },
    {
      "cell_type": "markdown",
      "source": [
        "$\n",
        "V = \\frac{23}{12}\\\\\n",
        "S=2⋅(S_1+S_2+S_3)≈2⋅(2.017+1.106+2.129)≈2⋅5.252≈10.504\\\\\n",
        "\\angle(a, b) = 71.7^\\circ\\\\\n",
        "\\angle(a, c) = 59.6^\\circ\\\\\n",
        "\\angle(b, c) = 58.9^\\circ\\\\\n",
        "M_4 = (1,\\frac{7}{3},\\frac{1}{4})\\\\\n",
        "M_5 = (1.5,\\frac{5}{6},1)\\\\\n",
        "M_6 = (\\frac{1}{2},2.5,1.25)\\\\\n",
        "M_7 = (1.5,\\frac{11}{6},1.25)\n",
        "$"
      ],
      "metadata": {
        "id": "SVtaqixdAuJP"
      }
    }
  ]
}