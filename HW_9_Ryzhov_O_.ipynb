{
  "nbformat": 4,
  "nbformat_minor": 0,
  "metadata": {
    "colab": {
      "provenance": [],
      "authorship_tag": "ABX9TyPmClMqE+d9YRBP6vGNeqMo",
      "include_colab_link": true
    },
    "kernelspec": {
      "name": "python3",
      "display_name": "Python 3"
    },
    "language_info": {
      "name": "python"
    }
  },
  "cells": [
    {
      "cell_type": "markdown",
      "metadata": {
        "id": "view-in-github",
        "colab_type": "text"
      },
      "source": [
        "<a href=\"https://colab.research.google.com/github/OleksandrRyzhov2299/math_colab/blob/main/HW_9_Ryzhov_O_.ipynb\" target=\"_parent\"><img src=\"https://colab.research.google.com/assets/colab-badge.svg\" alt=\"Open In Colab\"/></a>"
      ]
    },
    {
      "cell_type": "markdown",
      "source": [
        "# Домашнє завдання до Теми 9. Задачі оптимізації"
      ],
      "metadata": {
        "id": "ZwfGczrZ5G8O"
      }
    },
    {
      "cell_type": "code",
      "source": [
        "from scipy.optimize import linprog\n",
        "\n",
        "\n",
        "c = [-2, -9, -6]\n",
        "\n",
        "\n",
        "A = [\n",
        "    [12, 6, 2],\n",
        "    [12, 24, 18],\n",
        "    [12, 18, 12]\n",
        "]\n",
        "\n",
        "\n",
        "b = [320, 192, 180]\n",
        "\n",
        "\n",
        "x_bounds = [(0, None), (0, None), (0, None)]\n",
        "\n",
        "\n",
        "res = linprog(c, A_ub=A, b_ub=b, bounds=x_bounds, method='highs')\n",
        "\n",
        "res\n"
      ],
      "metadata": {
        "colab": {
          "base_uri": "https://localhost:8080/"
        },
        "id": "eaMgvPkXz1ni",
        "outputId": "b1fe505b-ae36-4ba3-cbe0-d801cc77f73b"
      },
      "execution_count": null,
      "outputs": [
        {
          "output_type": "execute_result",
          "data": {
            "text/plain": [
              "        message: Optimization terminated successfully. (HiGHS Status 7: Optimal)\n",
              "        success: True\n",
              "         status: 0\n",
              "            fun: -72.0\n",
              "              x: [ 0.000e+00  8.000e+00  0.000e+00]\n",
              "            nit: 1\n",
              "          lower:  residual: [ 0.000e+00  8.000e+00  0.000e+00]\n",
              "                 marginals: [ 2.500e+00  0.000e+00  7.500e-01]\n",
              "          upper:  residual: [       inf        inf        inf]\n",
              "                 marginals: [ 0.000e+00  0.000e+00  0.000e+00]\n",
              "          eqlin:  residual: []\n",
              "                 marginals: []\n",
              "        ineqlin:  residual: [ 2.720e+02  0.000e+00  3.600e+01]\n",
              "                 marginals: [-0.000e+00 -3.750e-01 -0.000e+00]\n",
              " mip_node_count: 0\n",
              " mip_dual_bound: 0.0\n",
              "        mip_gap: 0.0"
            ]
          },
          "metadata": {},
          "execution_count": 2
        }
      ]
    },
    {
      "cell_type": "markdown",
      "source": [
        "\n",
        "\n",
        "\n",
        "\n",
        "Оптимальне рішення для максимізації прибутку компанії з урахуванням обмежень є наступним:\n",
        "\n",
        "\n",
        " $ Кількість \\ проектів \\ зі \\ створення \\ сайтів \\ x_1: 0$ \\\n",
        " $ Кількість \\ проектів\\ з \\ розробки \\ інтернет-магазинів\\ x_2: 8 $ \\\n",
        " $ Кількість\\ проектів \\ з  \\ інтеграції \\ ERP \\ $x_3$: 0 $ \\\n",
        "\n",
        "\n",
        "Максимальний прибуток, який можна отримати при такому розподілі проектів, становить:\n",
        "$\n",
        "Z = 2 \\cdot 0 + 9 \\cdot 8 + 6 \\cdot 0 = 72 \\text{ тисяч доларів}\n",
        "$\n",
        "\n",
        "$Резюме$\n",
        "\n",
        "  Компанії слід зосередитися на виконанні 8 проектів з розробки інтернет-магазинів на місяць для максимізації прибутку.\n",
        "  Максимальний щомісячний прибуток становить 72 тисячі доларів.\n",
        "  Таке розподілення повністю використовує доступний час програмістів, але залишає деякий запас для дизайнерів та тестувальників.\n",
        "\n",
        "\n",
        "\n",
        "Компанія повинна надавати перевагу проектам з розробки інтернет-магазинів для максимізації свого щомісячного прибутку за наявних ресурсних обмежень.\n",
        "\n",
        "\n"
      ],
      "metadata": {
        "id": "-IbQWNRC0PTs"
      }
    }
  ]
}