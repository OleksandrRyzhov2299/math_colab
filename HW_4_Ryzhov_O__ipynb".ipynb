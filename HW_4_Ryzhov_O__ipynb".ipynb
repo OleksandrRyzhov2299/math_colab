{
  "nbformat": 4,
  "nbformat_minor": 0,
  "metadata": {
    "colab": {
      "provenance": [],
      "include_colab_link": true
    },
    "kernelspec": {
      "name": "python3",
      "display_name": "Python 3"
    },
    "language_info": {
      "name": "python"
    }
  },
  "cells": [
    {
      "cell_type": "markdown",
      "metadata": {
        "id": "view-in-github",
        "colab_type": "text"
      },
      "source": [
        "<a href=\"https://colab.research.google.com/github/OleksandrRyzhov2299/math_colab/blob/main/HW_4_Ryzhov_O__ipynb%22.ipynb\" target=\"_parent\"><img src=\"https://colab.research.google.com/assets/colab-badge.svg\" alt=\"Open In Colab\"/></a>"
      ]
    },
    {
      "cell_type": "markdown",
      "source": [
        "Вам можуть знадобитись такі символи:\n",
        "\n",
        "\n",
        "Символ | Код\n",
        "--- | ---\n",
        "$\\wedge$ | \\\\$\\wedge\\\\$\n",
        "$\\vee$ | \\\\$\\vee\\\\$\n",
        "$\\neg$ | \\\\$\\neg\\\\$\n",
        "$\\rightarrow$ | \\\\$\\rightarrow\\\\$\n",
        "$\\oplus$ | \\\\$\\oplus\\\\$\n",
        "$\\equiv$ | \\\\$\\equiv\\\\$\n",
        "$\\Leftrightarrow$ | \\\\$\\Leftrightarrow\\\\$"
      ],
      "metadata": {
        "id": "xJ6EpMRR0Ko1"
      }
    },
    {
      "cell_type": "markdown",
      "source": [
        "## Завдання 1\n",
        "Запишіть наступні висловлювання у математичній формі та складіть для них таблиці істиності:"
      ],
      "metadata": {
        "id": "yKUL8_WRy1WO"
      }
    },
    {
      "cell_type": "markdown",
      "source": [
        "a) “Морті прийде на вечірку тоді й тільки тоді, коли Джесіка прийде на вечірку(B), а Рік не прийде(C)”.\n",
        "\n",
        "A - Морті прийде\\\n",
        "B - Джесіка прийде\\\n",
        "C - Рік прийде\n",
        "A тоді й тільки тоді, коли B, a не C.\n",
        "$X = A \\Leftrightarrow B \\wedge \\neg C $\n",
        "\n",
        "$$\n",
        "\\begin{array} {|r|r|}\\hline\n",
        "A & B & C & X \\\\ \\hline\n",
        "1 & 1 & 1 & 0 \\\\ \\hline\n",
        "0 & 1 & 1 & 1 \\\\ \\hline\n",
        "1 & 0 & 1 & 0 \\\\ \\hline\n",
        "0 & 0 & 1 & 1 \\\\ \\hline\n",
        "1 & 1 & 0 & 1 \\\\ \\hline\n",
        "0 & 1 & 0 & 0 \\\\ \\hline\n",
        "1 & 0 & 0 & 0 \\\\ \\hline\n",
        "0 & 0 & 0 & 1 \\\\ \\hline\n",
        "\\end{array}\n",
        "$$"
      ],
      "metadata": {
        "id": "O0k_O_SOy2eP"
      }
    },
    {
      "cell_type": "code",
      "source": [
        "def implication(a, b):\n",
        "    \"\"\"a -> b\"\"\"\n",
        "    return not a or b\n",
        "\n",
        "print(f'a | b | c | x')\n",
        "print('------------------')\n",
        "ls = [1, 0]\n",
        "for c in ls:\n",
        "    for b in ls:\n",
        "        for a in ls:\n",
        "            x = a == (b and not c)\n",
        "            x = int(x)\n",
        "            print(f'{a} | {b} | {c} | {x}')"
      ],
      "metadata": {
        "id": "eadZSOn6-o_R",
        "outputId": "cb797073-1233-4fa2-b8d7-dc8fb78d6eb5",
        "colab": {
          "base_uri": "https://localhost:8080/"
        }
      },
      "execution_count": null,
      "outputs": [
        {
          "output_type": "stream",
          "name": "stdout",
          "text": [
            "a | b | c | x\n",
            "------------------\n",
            "1 | 1 | 1 | 0\n",
            "0 | 1 | 1 | 1\n",
            "1 | 0 | 1 | 0\n",
            "0 | 0 | 1 | 1\n",
            "1 | 1 | 0 | 1\n",
            "0 | 1 | 0 | 0\n",
            "1 | 0 | 0 | 0\n",
            "0 | 0 | 0 | 1\n"
          ]
        }
      ]
    },
    {
      "cell_type": "markdown",
      "source": [
        "b) “Якщо ми успішно виконаємо домашнє завдання з математичної логіки (A), то ми отримаємо заліковий бал (B) або візьмемо участь у науковому семінарі (C), водночас якщо ми візьмемо участь у науковому семінарі і отримаємо заліковий бал, то достроково складемо іспит з математичної логіки (D)”.\n",
        "\n",
        "A - ми успішно виконали домашнє завдання\\\n",
        "B - Ми отримали заліковий бал\\\n",
        "C - Ми взяли участь у науковому семінарі\\\n",
        "D - Ми достроково склали іспит з математичної логіки\n",
        "\n",
        "X = (A → (B ∨ C)) ∧ ((C ∧ B) → D)\n",
        "\n",
        "\n",
        "\n",
        "$$\n",
        "\\begin{array} {|r|r|}\\hline\n",
        "A & B & C & D & X \\\\ \\hline\n",
        "1 & 1 & 1 & 1 & 1 \\\\ \\hline\n",
        "0 & 1 & 1 & 1 & 1 \\\\ \\hline\n",
        "1 & 0 & 1 & 1 & 0 \\\\ \\hline\n",
        "0 & 0 & 1 & 1 & 0 \\\\ \\hline\n",
        "1 & 1 & 0 & 1 & 0 \\\\ \\hline\n",
        "0 & 1 & 0 & 1 & 0 \\\\ \\hline\n",
        "1 & 0 & 0 & 1 & 0 \\\\ \\hline\n",
        "0 & 0 & 0 & 1 & 0 \\\\ \\hline\n",
        "1 & 1 & 1 & 0 & 1 \\\\ \\hline\n",
        "0 & 1 & 1 & 0 & 1 \\\\ \\hline\n",
        "1 & 0 & 1 & 0 & 0 \\\\ \\hline\n",
        "0 & 0 & 1 & 0 & 0 \\\\ \\hline\n",
        "1 & 1 & 0 & 0 & 1 \\\\ \\hline\n",
        "0 & 1 & 0 & 0 & 0 \\\\ \\hline\n",
        "1 & 0 & 0 & 0 & 0 \\\\ \\hline  \n",
        "0 & 0 & 0 & 0 & 0 \\\\ \\hline\n",
        "\\end{array}\n",
        "$$\n",
        "\n"
      ],
      "metadata": {
        "id": "YO3StJEgy2w5"
      }
    },
    {
      "cell_type": "markdown",
      "source": [
        "A = 1, B = 1, C = 1, D = 1:\n",
        "За умовами, X = 1, оскільки ми виконали домашнє завдання і отримали заліковий бал або взяли участь у науковому семінарі.\n",
        "\n",
        "A = 0, B = 1, C = 1, D = 1:\n",
        "Знову, X = 1, оскільки хоча ми не виконали домашнє завдання, але ми отримали заліковий бал або взяли участь у науковому семінарі.\n",
        "\n",
        "A = 1, B = 0, C = 1, D = 1:\n",
        "Тут X = 0, оскільки ми виконали домашнє завдання, але не отримали заліковий бал і не взяли участь у науковому семінарі.\n",
        "\n",
        "A = 0, B = 0, C = 1, D = 1:\n",
        "Так само, X = 0, оскільки ми нічого не виконали, але взяли участь у науковому семінарі.\n",
        "\n",
        "A = 1, B = 1, C = 0, D = 1:\n",
        "X = 0, оскільки ми виконали домашнє завдання і отримали заліковий бал, але не взяли участь у науковому семінарі.\n",
        "\n",
        "A = 0, B = 1, C = 0, D = 1:\n",
        "І тут X = 0, оскільки ми не виконали домашнє завдання, але отримали заліковий бал.\n",
        "\n",
        "A = 1, B = 0, C = 0, D = 1:\n",
        "X = 0, оскільки ми виконали домашнє завдання, але не отримали заліковий бал і не взяли участь у науковому семінарі.\n",
        "\n",
        "A = 0, B = 0, C = 0, D = 1:\n",
        "І, нарешті, X = 0, оскільки ми не виконали домашнє завдання, не отримали заліковий бал і не взяли участь у науковому семінарі."
      ],
      "metadata": {
        "id": "eVEjorCCfqIt"
      }
    },
    {
      "cell_type": "code",
      "source": [
        "def calculate_X(A, B, C, D):\n",
        "    if A and (B or C):\n",
        "        return 1\n",
        "    elif C and B and not D:\n",
        "        return 1\n",
        "    else:\n",
        "        return 0\n",
        "\n",
        "print(f'A | B | C | D | X')\n",
        "print('-------------------')\n",
        "for A in [0, 1]:\n",
        "    for B in [0, 1]:\n",
        "        for C in [0, 1]:\n",
        "            for D in [0, 1]:\n",
        "                X = calculate_X(A, B, C, D)\n",
        "                print(f'{A} | {B} | {C} | {D} | {X}')\n",
        "\n",
        "\n",
        "\n",
        "\n",
        "\n",
        "\n",
        "\n",
        "\n",
        "\n",
        "\n"
      ],
      "metadata": {
        "colab": {
          "base_uri": "https://localhost:8080/"
        },
        "id": "8LxOHeM2W6kc",
        "outputId": "e6d89667-4860-422a-a52b-1c226ea2929f"
      },
      "execution_count": null,
      "outputs": [
        {
          "output_type": "stream",
          "name": "stdout",
          "text": [
            "A | B | C | D | X\n",
            "-------------------\n",
            "0 | 0 | 0 | 0 | 0\n",
            "0 | 0 | 0 | 1 | 0\n",
            "0 | 0 | 1 | 0 | 0\n",
            "0 | 0 | 1 | 1 | 0\n",
            "0 | 1 | 0 | 0 | 0\n",
            "0 | 1 | 0 | 1 | 0\n",
            "0 | 1 | 1 | 0 | 1\n",
            "0 | 1 | 1 | 1 | 0\n",
            "1 | 0 | 0 | 0 | 0\n",
            "1 | 0 | 0 | 1 | 0\n",
            "1 | 0 | 1 | 0 | 1\n",
            "1 | 0 | 1 | 1 | 1\n",
            "1 | 1 | 0 | 0 | 1\n",
            "1 | 1 | 0 | 1 | 1\n",
            "1 | 1 | 1 | 0 | 1\n",
            "1 | 1 | 1 | 1 | 1\n"
          ]
        }
      ]
    },
    {
      "cell_type": "markdown",
      "source": [
        "## Завдання 2\n",
        "Із 40 програмістів 18 володіють мовою Python, 19 — мовою С++, 21 — мовою Java. Відомо, що 10 програмістів знають одночасно Python і С++, 7 — Python і Java, 8 — C++ і Java. Троє програмістів не володіють жодною із мов Python, С++, Java. Знайти кількість програмістів, які одночасно знають усі три мови програмування."
      ],
      "metadata": {
        "id": "7n3tjLJey3Ho"
      }
    },
    {
      "cell_type": "markdown",
      "source": [
        "P \\cup C \\cup J = P + C + J - (P \\cap C) - (P \\cap J) - (C \\cap J) + (P \\cap C \\cap J)\n"
      ],
      "metadata": {
        "id": "aCveK_PJh1ZG"
      }
    },
    {
      "cell_type": "markdown",
      "source": [
        "\\begin{align*}\n",
        "40 &= 18 + 19 + 21 - (P \\cap C) - (P \\cap J) - (C \\cap J) + (P \\cap C \\cap J) \\\\\n",
        "&= 40 - (18 + 19 + 21 - 10 - 7 - 8 - 3) \\\\\n",
        "&= 40 - 36 \\\\\n",
        "&= 4\n",
        "\\end{align*}"
      ],
      "metadata": {
        "id": "YDEYSqTPh5ta"
      }
    }
  ]
}